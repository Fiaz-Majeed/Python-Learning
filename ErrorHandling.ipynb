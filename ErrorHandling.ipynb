{
  "nbformat": 4,
  "nbformat_minor": 0,
  "metadata": {
    "colab": {
      "provenance": [],
      "toc_visible": true,
      "authorship_tag": "ABX9TyMlwlQ3zTOVtHprjl+DtSjU",
      "include_colab_link": true
    },
    "kernelspec": {
      "name": "python3",
      "display_name": "Python 3"
    },
    "language_info": {
      "name": "python"
    }
  },
  "cells": [
    {
      "cell_type": "markdown",
      "metadata": {
        "id": "view-in-github",
        "colab_type": "text"
      },
      "source": [
        "<a href=\"https://colab.research.google.com/github/Fiaz-Majeed/Python-Learning/blob/main/ErrorHandling.ipynb\" target=\"_parent\"><img src=\"https://colab.research.google.com/assets/colab-badge.svg\" alt=\"Open In Colab\"/></a>"
      ]
    },
    {
      "cell_type": "code",
      "execution_count": 5,
      "metadata": {
        "colab": {
          "base_uri": "https://localhost:8080/"
        },
        "id": "STnWstKwIhdi",
        "outputId": "048b9cab-1ecc-463a-c4cf-648454b0db56"
      },
      "outputs": [
        {
          "output_type": "stream",
          "name": "stdout",
          "text": [
            "8\n"
          ]
        }
      ],
      "source": [
        "def sort():\n",
        "  return 8\n",
        "return_value = sort()\n",
        "print(return_value)"
      ]
    },
    {
      "cell_type": "code",
      "source": [
        "try:\n",
        "  my_list = [1, 2, 3]\n",
        "  print(my_list[2])\n",
        "except IndexError as e:\n",
        "  print(\"Index Error\", str(e))\n",
        "else:\n",
        "  print(\"No Error\")\n",
        "finally:\n",
        "  print(\"Finally\")"
      ],
      "metadata": {
        "colab": {
          "base_uri": "https://localhost:8080/"
        },
        "id": "ccs4CDhsetiq",
        "outputId": "faedb65d-bf25-4326-e31b-e939263ee9a1"
      },
      "execution_count": 6,
      "outputs": [
        {
          "output_type": "stream",
          "name": "stdout",
          "text": [
            "3\n",
            "No Error\n",
            "Finally\n"
          ]
        }
      ]
    },
    {
      "cell_type": "code",
      "source": [
        "try:\n",
        "  result= 10/0\n",
        "except ZeroDivisionError as e:\n",
        "  print(\"Index Error\", str(e))\n",
        "else:\n",
        "  print(\"No Error\")\n",
        "finally:\n",
        "  print(\"Finally\")\n",
        "print(result)"
      ],
      "metadata": {
        "colab": {
          "base_uri": "https://localhost:8080/"
        },
        "id": "l8NfjxOkgdsT",
        "outputId": "2bd07502-a55a-4c3e-dfad-7a8d6f5742b8"
      },
      "execution_count": 11,
      "outputs": [
        {
          "output_type": "stream",
          "name": "stdout",
          "text": [
            "Index Error division by zero\n",
            "Finally\n",
            "10.0\n"
          ]
        }
      ]
    }
  ]
}