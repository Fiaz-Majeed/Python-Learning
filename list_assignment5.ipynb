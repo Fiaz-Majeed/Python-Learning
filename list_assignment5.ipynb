{
 "cells": [
  {
   "cell_type": "code",
   "execution_count": 52,
   "metadata": {},
   "outputs": [
    {
     "name": "stdout",
     "output_type": "stream",
     "text": [
      "Usman\n",
      "Ali\n",
      "Umar\n",
      "Zafar\n"
     ]
    }
   ],
   "source": [
    "#Exercise 3.1: Names\n",
    "names: list = ['Usman', 'Ali', 'Umar', 'Zafar']\n",
    "print(names[0])\n",
    "print(names[1])\n",
    "print(names[2])\n",
    "print(names[3])"
   ]
  },
  {
   "cell_type": "code",
   "execution_count": 41,
   "metadata": {},
   "outputs": [
    {
     "name": "stdout",
     "output_type": "stream",
     "text": [
      "The admission of Usman is confirmed \n",
      "The admission of Ali is confirmed \n",
      "The admission of Umar is confirmed \n",
      "The admission of Zafar is confirmed \n"
     ]
    }
   ],
   "source": [
    "#Exercise 3-2: Greetings\n",
    "print(f'The admission of {names[0]} is confirmed ')\n",
    "print(f'The admission of {names[1]} is confirmed ')\n",
    "print(f'The admission of {names[2]} is confirmed ')\n",
    "print(f'The admission of {names[3]} is confirmed ')"
   ]
  },
  {
   "cell_type": "code",
   "execution_count": 77,
   "metadata": {},
   "outputs": [
    {
     "name": "stdout",
     "output_type": "stream",
     "text": [
      "Invitation for dinner to Mr. Zia Khan\n",
      "Invitation for dinner to Mr. Jahanzaib Tayyab\n",
      "Invitation for dinner to Mr. Kamran Khan\n"
     ]
    }
   ],
   "source": [
    "#Exercise 3-4: Guest List\n",
    "dinner: list = ['Mr. Zia Khan', 'Mr. Jahanzaib Tayyab', 'Mr. Kamran Khan']\n",
    "print(f'Invitation for dinner to {dinner[0]}')\n",
    "print(f'Invitation for dinner to {dinner[1]}')\n",
    "print(f'Invitation for dinner to {dinner[2]}')"
   ]
  },
  {
   "cell_type": "code",
   "execution_count": 54,
   "metadata": {},
   "outputs": [
    {
     "name": "stdout",
     "output_type": "stream",
     "text": [
      "I would like to own a Honda motor cycle\n",
      "I would like to own a Toyota car\n",
      "I would like to own a Airblue plane\n"
     ]
    }
   ],
   "source": [
    "#Exercise 3-3: Your Own List\n",
    "transport: list = ['Honda motor cycle', 'Toyota car', 'Airblue plane'] \n",
    "print(f'I would like to own a {transport[0]}')\n",
    "print(f'I would like to own a {transport[1]}')\n",
    "print(f'I would like to own a {transport[2]}')\n"
   ]
  },
  {
   "cell_type": "code",
   "execution_count": 78,
   "metadata": {},
   "outputs": [
    {
     "name": "stdout",
     "output_type": "stream",
     "text": [
      "Mr. Kamran Khan can not join the dinner\n",
      "\n",
      "Updated Invitations:\n",
      "Invitation for dinner to Mr. Zia Khan\n",
      "Invitation for dinner to Mr. Jahanzaib Tayyab\n",
      "Invitation for dinner to Mr. Ameen\n"
     ]
    }
   ],
   "source": [
    "#Exercise 3-5: Changing Guest List\n",
    "print(f'{dinner[2]} can not join the dinner')\n",
    "dinner[2] = 'Mr. Ameen'\n",
    "print(\"\\nUpdated Invitations:\")\n",
    "print(f'Invitation for dinner to {dinner[0]}')\n",
    "print(f'Invitation for dinner to {dinner[1]}')\n",
    "print(f'Invitation for dinner to {dinner[2]}')"
   ]
  },
  {
   "cell_type": "code",
   "execution_count": 79,
   "metadata": {},
   "outputs": [
    {
     "name": "stdout",
     "output_type": "stream",
     "text": [
      "We found a bigger table of guests Dear ['Mr. Zia Khan', 'Mr. Jahanzaib Tayyab', 'Mr. Ameen']\n",
      "['Mr. Qasim', 'Mr. Zia Khan', 'Mr. Jahanzaib Tayyab', 'Mr. Ameen']\n",
      "['Mr. Qasim', 'Mr. Zia Khan', 'Mr. Junaid', 'Mr. Jahanzaib Tayyab', 'Mr. Ameen', 'Ms. Mubbara']\n"
     ]
    }
   ],
   "source": [
    "# Exercise 3-6: More Guests\n",
    "print(f'We found a bigger table of guests Dear {dinner}')\n",
    "dinner.insert(0, 'Mr. Qasim')\n",
    "print(dinner)\n",
    "dinner.insert(2, 'Mr. Junaid')\n",
    "dinner.append('Ms. Mubbara')\n",
    "print(dinner)\n"
   ]
  },
  {
   "cell_type": "code",
   "execution_count": 80,
   "metadata": {},
   "outputs": [
    {
     "name": "stdout",
     "output_type": "stream",
     "text": [
      "We can only invite two people in the dinner\n",
      "Ms. Mubbara, we are sorry, we can not invite you on the dinner\n",
      "Mr. Ameen, we are sorry, we can not invite you on the dinner\n",
      "Mr. Jahanzaib Tayyab, we are sorry, we can not invite you on the dinner\n",
      "Mr. Junaid, we are sorry, we can not invite you on the dinner\n",
      " Mr. Qasim and Mr. Zia Khan, you are still invited.\n",
      "Final guest list: []\n"
     ]
    }
   ],
   "source": [
    "#Exercise 3-7: Shrinking Guest List\n",
    "print('We can only invite two people in the dinner')\n",
    "removed_guest = dinner.pop()\n",
    "print(f'{removed_guest}, we are sorry, we can not invite you on the dinner')\n",
    "removed_guest = dinner.pop()\n",
    "print(f'{removed_guest}, we are sorry, we can not invite you on the dinner')\n",
    "removed_guest = dinner.pop()\n",
    "print(f'{removed_guest}, we are sorry, we can not invite you on the dinner')\n",
    "removed_guest = dinner.pop()\n",
    "print(f'{removed_guest}, we are sorry, we can not invite you on the dinner')\n",
    "print(f' {dinner[0]} and {dinner[1]}, you are still invited.')\n",
    "del dinner[0]\n",
    "del dinner[0]\n",
    "print('Final guest list:', dinner)"
   ]
  },
  {
   "cell_type": "code",
   "execution_count": 112,
   "metadata": {},
   "outputs": [
    {
     "name": "stdout",
     "output_type": "stream",
     "text": [
      "I like these places in the world ['Museum', 'Zoo', 'Faisal Mosque', 'Twin tower', 'Bird park']\n",
      "List in sorted order\n",
      " ['Bird park', 'Faisal Mosque', 'Museum', 'Twin tower', 'Zoo']\n",
      "List in reverse order\n",
      "['Zoo', 'Twin tower', 'Museum', 'Faisal Mosque', 'Bird park']\n",
      "Places in again correct order\n",
      " ['Bird park', 'Faisal Mosque', 'Museum', 'Twin tower', 'Zoo']\n",
      "Print in reverse order again\n",
      " ['Zoo', 'Twin tower', 'Museum', 'Faisal Mosque', 'Bird park']\n",
      "Print in sorted order\n",
      " ['Bird park', 'Faisal Mosque', 'Museum', 'Twin tower', 'Zoo']\n",
      "List after reverse-alphabetical order\n",
      "['Zoo', 'Twin tower', 'Museum', 'Faisal Mosque', 'Bird park']\n"
     ]
    }
   ],
   "source": [
    "#Exercise 3-8: Seeing the World\n",
    "places: list = ['Museum', 'Zoo', 'Faisal Mosque', 'Twin tower', 'Bird park']\n",
    "# Print list in its original order.\n",
    "print(f'I like these places in the world {places}')\n",
    "#Use sorted() to  print your list in alphabetical order without modifying the actual list.\n",
    "places.sort()\n",
    "print(\"List in sorted order\\n\", places)\n",
    "# Use sorted() to print your list in  reverse-alphabetical order \n",
    "print('List in reverse order')\n",
    "print(sorted(places, reverse=True))\n",
    "#Use reverse() to change the order of  your list.\n",
    "print(\"Places in again correct order\\n\", places)\n",
    "# Use reverse() to change the  order of your list again. \n",
    "places.reverse()\n",
    "print('Print in reverse order again\\n',places)\n",
    "#Use sort() to  change your list so it’s stored in alphabetical order.\n",
    "places.sort()\n",
    "print('Print in sorted order\\n',places) \n",
    "#Use sort() to change your list so it’s stored in reverse-alphabetical order\n",
    "places.reverse()\n",
    "print(\"List after reverse-alphabetical order\")\n",
    "print(places)\n"
   ]
  },
  {
   "cell_type": "code",
   "execution_count": 127,
   "metadata": {},
   "outputs": [
    {
     "name": "stdout",
     "output_type": "stream",
     "text": [
      "Original list of rivers:\n",
      "['Jhelum', 'Chenab', 'Ravi', 'Satlug', 'Indus']\n",
      "\n",
      "List after appending 'Volga':\n",
      "['Jhelum', 'Chenab', 'Ravi', 'Satlug', 'Indus', 'Volga']\n",
      "\n",
      "List after inserting 'Thames' at index 1:\n",
      "['Jhelum', 'Thames', 'Chenab', 'Ravi', 'Satlug', 'Indus', 'Volga']\n",
      "\n",
      "List after deleting the river at index 1:\n",
      "['Jhelum', 'Chenab', 'Ravi', 'Satlug', 'Indus', 'Volga']\n",
      "\n",
      "List after popping the last river:\n",
      "['Jhelum', 'Chenab', 'Ravi', 'Satlug', 'Indus']\n",
      "Popped river: Volga\n",
      "\n",
      "List after removing 'Satlug':\n",
      "['Jhelum', 'Chenab', 'Ravi', 'Indus']\n",
      "\n",
      "List after sorting alphabetically:\n",
      "['Chenab', 'Indus', 'Jhelum', 'Ravi']\n",
      "\n",
      "List after sorting in reverse alphabetical order:\n",
      "['Ravi', 'Jhelum', 'Indus', 'Chenab']\n",
      "\n",
      "List after reversing the order:\n",
      "['Chenab', 'Indus', 'Jhelum', 'Ravi']\n",
      "\n",
      "The number of rivers in the list is: 4\n",
      "\n",
      "List in alphabetical order (using sorted()):\n",
      "['Chenab', 'Indus', 'Jhelum', 'Ravi']\n",
      "\n",
      "List in reverse alphabetical order (using sorted()):\n",
      "['Ravi', 'Jhelum', 'Indus', 'Chenab']\n",
      "\n",
      "Original list after using sorted():\n",
      "['Chenab', 'Indus', 'Jhelum', 'Ravi']\n"
     ]
    }
   ],
   "source": [
    "#Exercise 3-9: Every Function\n",
    "# List of rivers\n",
    "rivers = ['Jhelum', 'Chenab', 'Ravi', 'Satlug', 'Indus']\n",
    "# Print the original list\n",
    "print(\"Original list of rivers:\")\n",
    "print(rivers)\n",
    "# Add a new element to the end of the list using append()\n",
    "rivers.append('Volga')\n",
    "print(\"\\nList after appending 'Volga':\")\n",
    "print(rivers)\n",
    "#Insert a new element at a specific position using insert()\n",
    "rivers.insert(1, 'Thames')\n",
    "print(\"\\nList after inserting 'Thames' at index 1:\")\n",
    "print(rivers)\n",
    "#Remove an element from the list using del\n",
    "del rivers[1]\n",
    "print(\"\\nList after deleting the river at index 1:\")\n",
    "print(rivers)\n",
    "# Remove an item using pop() and show the removed item\n",
    "removed_river = rivers.pop()\n",
    "print(\"\\nList after popping the last river:\")\n",
    "print(rivers)\n",
    "print(\"Popped river:\", removed_river)\n",
    "# Remove an item by value using remove()\n",
    "rivers.remove('Satlug')\n",
    "print(\"\\nList after removing 'Satlug':\")\n",
    "print(rivers)\n",
    "# Sort the list alphabetically using sort()\n",
    "rivers.sort()\n",
    "print(\"\\nList after sorting alphabetically:\")\n",
    "print(rivers)\n",
    "# 10. Sort the list in reverse alphabetical order using sort(reverse=True)\n",
    "rivers.sort(reverse=True)\n",
    "print(\"\\nList after sorting in reverse alphabetical order:\")\n",
    "print(rivers)\n",
    "# Reverse the order of the list using reverse()\n",
    "rivers.reverse()\n",
    "print(\"\\nList after reversing the order:\")\n",
    "print(rivers)\n",
    "# Find the length of the list using len()\n",
    "print(\"\\nThe number of rivers in the list is:\", len(rivers))\n",
    "# 13. Using sorted() to display the list in alphabetical order without modifying the original list\n",
    "print(\"\\nList in alphabetical order (using sorted()):\")\n",
    "print(sorted(rivers))\n",
    "# 14. Using sorted() to display the list in reverse alphabetical order without modifying the original list\n",
    "print(\"\\nList in reverse alphabetical order (using sorted()):\")\n",
    "print(sorted(rivers, reverse=True))\n",
    "# Confirming the original list is unchanged by sorted()\n",
    "print(\"\\nOriginal list after using sorted():\")\n",
    "print(rivers)\n",
    "\n"
   ]
  },
  {
   "cell_type": "code",
   "execution_count": 128,
   "metadata": {},
   "outputs": [
    {
     "ename": "ValueError",
     "evalue": "5 is not in list",
     "output_type": "error",
     "traceback": [
      "\u001b[1;31m---------------------------------------------------------------------------\u001b[0m",
      "\u001b[1;31mValueError\u001b[0m                                Traceback (most recent call last)",
      "Cell \u001b[1;32mIn[128], line 1\u001b[0m\n\u001b[1;32m----> 1\u001b[0m \u001b[38;5;28mprint\u001b[39m(\u001b[43mplaces\u001b[49m\u001b[38;5;241;43m.\u001b[39;49m\u001b[43mindex\u001b[49m\u001b[43m(\u001b[49m\u001b[38;5;241;43m5\u001b[39;49m\u001b[43m)\u001b[49m)\n",
      "\u001b[1;31mValueError\u001b[0m: 5 is not in list"
     ]
    }
   ],
   "source": [
    "#Exercise 3-10: Intentional Error\n",
    "print(places.index(5))"
   ]
  }
 ],
 "metadata": {
  "kernelspec": {
   "display_name": "Python 3",
   "language": "python",
   "name": "python3"
  },
  "language_info": {
   "codemirror_mode": {
    "name": "ipython",
    "version": 3
   },
   "file_extension": ".py",
   "mimetype": "text/x-python",
   "name": "python",
   "nbconvert_exporter": "python",
   "pygments_lexer": "ipython3",
   "version": "3.12.4"
  }
 },
 "nbformat": 4,
 "nbformat_minor": 2
}
